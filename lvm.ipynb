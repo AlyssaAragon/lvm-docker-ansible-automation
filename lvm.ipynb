{
 "cells": [
  {
   "cell_type": "markdown",
   "id": "93d7ba2c",
   "metadata": {},
   "source": [
    "# Assignment 5 - Comprehensive - 150 Points"
   ]
  },
  {
   "cell_type": "markdown",
   "id": "396d98c7",
   "metadata": {},
   "source": [
    "## Learning objectives\n",
    "By the end of this assignment you should be able to:\n",
    "* create striped logical volumes on Linux (LVM RAID‑0)\n",
    "* bind‑mount LVM volumes inside Docker containers\n",
    "* enable password‑less SSH into bridged network containers\n",
    "* automate file deployment to multiple hosts with a minimal Ansible playbook\n",
    "* **(647 graduates only)** use lvm snapshots to recover corrupted files"
   ]
  },
  {
   "cell_type": "markdown",
   "id": "f80424af",
   "metadata": {},
   "source": [
    "### Task 1 – Build two striped LVM logical volumes (2 GB each)\n",
    "Using **four** of the 1 GB disks (pick any four from `/dev/sd[b-f]`) create **two** 2‑disk, striped (RAID‑0) logical volumes of 2 GB each.\n",
    "\n",
    "* name the volume groups `vgstripe1` and `vgstripe2`  \n",
    "* name the logical volumes `lvm1` and `lvm2` and make them occupy 100% of the free space in their respective vgs.\n",
    "* format both volumes with `ext4`  \n",
    "* mount them at `/mnt/lvm1` and `/mnt/lvm2`"
   ]
  },
  {
   "cell_type": "code",
   "execution_count": 9,
   "id": "7098f6da",
   "metadata": {},
   "outputs": [
    {
     "name": "stdout",
     "output_type": "stream",
     "text": [
      "  Can't initialize physical volume \"/dev/sdc\" of volume group \"vgstripe1\" without -ff\n",
      "  /dev/sdc: physical volume not initialized.\n",
      "  Can't initialize physical volume \"/dev/sdd\" of volume group \"vgstripe1\" without -ff\n",
      "  /dev/sdd: physical volume not initialized.\n",
      "  Can't initialize physical volume \"/dev/sde\" of volume group \"vgstripe2\" without -ff\n",
      "  /dev/sde: physical volume not initialized.\n",
      "  Can't initialize physical volume \"/dev/sdf\" of volume group \"vgstripe2\" without -ff\n",
      "  /dev/sdf: physical volume not initialized.\n",
      "  A volume group called vgstripe1 already exists.\n",
      "  A volume group called vgstripe2 already exists.\n",
      "  Logical volume \"lvm1\" created.\n",
      "  Logical volume \"lvm2\" created.\n",
      "mke2fs 1.47.0 (5-Feb-2023)\n",
      "Discarding device blocks: done                            \n",
      "Creating filesystem with 522240 4k blocks and 130560 inodes\n",
      "Filesystem UUID: 8b6d80fc-6895-4372-9371-8a7de3292875\n",
      "Superblock backups stored on blocks: \n",
      "\t32768, 98304, 163840, 229376, 294912\n",
      "\n",
      "Allocating group tables: done                            \n",
      "Writing inode tables: done                            \n",
      "Creating journal (8192 blocks): done\n",
      "Writing superblocks and filesystem accounting information: done\n",
      "\n",
      "mke2fs 1.47.0 (5-Feb-2023)\n",
      "Discarding device blocks: done                            \n",
      "Creating filesystem with 522240 4k blocks and 130560 inodes\n",
      "Filesystem UUID: 128a07a3-d111-49e7-9fb4-f0f3264477cb\n",
      "Superblock backups stored on blocks: \n",
      "\t32768, 98304, 163840, 229376, 294912\n",
      "\n",
      "Allocating group tables: done                            \n",
      "Writing inode tables: done                            \n",
      "Creating journal (8192 blocks): done\n",
      "Writing superblocks and filesystem accounting information: done\n",
      "\n"
     ]
    }
   ],
   "source": [
    "# your commands here (or do it in a terminal)\n",
    "sudo pvcreate /dev/sdc /dev/sdd /dev/sde /dev/sdf\n",
    "sudo vgcreate vgstripe1 /dev/sdc /dev/sdd\n",
    "sudo vgcreate vgstripe2 /dev/sde /dev/sdf\n",
    "sudo lvcreate -i2 -I64 -l 100%FREE -n lvm1 vgstripe1\n",
    "sudo lvcreate -i2 -I64 -l 100%FREE -n lvm2 vgstripe2\n",
    "sudo mkfs.ext4 /dev/vgstripe1/lvm1\n",
    "sudo mkfs.ext4 /dev/vgstripe2/lvm2\n",
    "sudo mkdir -p /mnt/lvm1 /mnt/lvm2\n",
    "sudo mount /dev/vgstripe1/lvm1 /mnt/lvm1\n",
    "sudo mount /dev/vgstripe2/lvm2 /mnt/lvm2"
   ]
  },
  {
   "cell_type": "code",
   "execution_count": 10,
   "id": "76001b03",
   "metadata": {},
   "outputs": [
    {
     "name": "stdout",
     "output_type": "stream",
     "text": [
      "└─vgstripe1-lvm1     2G ext4        /mnt/lvm1\n",
      "└─vgstripe1-lvm1     2G ext4        /mnt/lvm1\n",
      "└─vgstripe2-lvm2     2G ext4        /mnt/lvm2\n",
      "└─vgstripe2-lvm2     2G ext4        /mnt/lvm2\n",
      "/dev/mapper/vgstripe1-lvm1  2.0G   24K  1.9G   1% /mnt/lvm1\n",
      "/dev/mapper/vgstripe2-lvm2  2.0G   24K  1.9G   1% /mnt/lvm2\n"
     ]
    }
   ],
   "source": [
    "# verification – expect two mounted striped logical volumes, each 2 GB\n",
    "lsblk -o NAME,SIZE,FSTYPE,MOUNTPOINT | grep -E 'lvm[12]|vgstripe'\n",
    "df -h | grep '/mnt/lvm'"
   ]
  },
  {
   "cell_type": "markdown",
   "id": "ca41dad1",
   "metadata": {},
   "source": [
    "### Task 2 – Launch two Debian bookworm containers\n",
    "1. Pull the Docker image `debian:bookworm`.\n",
    "2. Start two persistent containers named **`debian1`** and **`debian`** using a custom network driver (`-network lvmnet`) that I have given you the command to create in the cell below. Use the \"-d\" flag to keep them detached, and use \"sleep infinity\" as the container command so that they stay running in the background. Bind‑mount the host paths `/mnt/lvm1` > `/root/host` (inside **debian1**) and `/mnt/lvm2` > `/root/host` (inside **debian2**)."
   ]
  },
  {
   "cell_type": "code",
   "execution_count": 12,
   "id": "374f9b85-1dec-4d6f-8970-331507f41816",
   "metadata": {},
   "outputs": [
    {
     "name": "stdout",
     "output_type": "stream",
     "text": [
      "9d764b260e687ac0290e97f78043b6fc6d04802b26ebbdb9b4d09705b3d2ffee\n"
     ]
    }
   ],
   "source": [
    "# Saving you from troubleshooting hell\n",
    "#\n",
    "# MTU issues are tricky to troubleshoot because small packets (such as pings) will succeed\n",
    "# but full size packets (most network traffic) get dropped.\n",
    "#\n",
    "# Recall from assignment 1 that your VM is part of a VXLAN that adds 50 to the MTU,\n",
    "# so we need to drop our MTU to 1450 so that packets fit in the standard 1500 byte limit.\n",
    "sudo docker network create --driver bridge --opt com.docker.network.driver.mtu=1450 lvmnet"
   ]
  },
  {
   "cell_type": "code",
   "execution_count": 13,
   "id": "7baa855c",
   "metadata": {},
   "outputs": [
    {
     "name": "stdout",
     "output_type": "stream",
     "text": [
      "bookworm: Pulling from library/debian\n",
      "\n",
      "\u001b[1BDigest: sha256:264982ff4d18000fa74540837e2c43ca5137a53a83f8f62c7b3803c0f0bdcd56\n",
      "Status: Downloaded newer image for debian:bookworm\n",
      "docker.io/library/debian:bookworm\n",
      "bc667f44ab3cd8eeab06e6775c11fe6ee17f5875d1ca760c3514d3076d383e71\n",
      "c3a0a93e089faf41dbaddb5c51b827822d57d3d231718ff05bc7a881e874761c\n"
     ]
    }
   ],
   "source": [
    "# your commands here (or do it in a terminal)\n",
    "sudo docker pull debian:bookworm\n",
    "sudo docker run -d --name debian1 \\\n",
    "  --network lvmnet \\\n",
    "  -v /mnt/lvm1:/root/host \\\n",
    "  debian:bookworm sleep infinity\n",
    "sudo docker run -d --name debian2 \\\n",
    "  --network lvmnet \\\n",
    "  -v /mnt/lvm2:/root/host \\\n",
    "  debian:bookworm sleep infinity"
   ]
  },
  {
   "cell_type": "code",
   "execution_count": 14,
   "id": "f340051a",
   "metadata": {},
   "outputs": [
    {
     "name": "stdout",
     "output_type": "stream",
     "text": [
      "debian2 -> Up 5 seconds\n",
      "debian1 -> Up 6 seconds\n",
      "debian1 mounts:\n",
      "/mnt/lvm1 => /root/host\n",
      "\n",
      "debian2 mounts:\n",
      "/mnt/lvm2 => /root/host\n",
      "\n"
     ]
    }
   ],
   "source": [
    "# verification – containers should be running & mounts visible\n",
    "sudo docker ps --filter name=debian --format '{{.Names}} -> {{.Status}}'\n",
    "for c in debian1 debian2; do\n",
    "  echo \"${c} mounts:\"\n",
    "  sudo docker inspect -f '{{ range .Mounts }}{{ .Source }} => {{ .Destination }}{{ println }}{{ end }}' $c\n",
    "done"
   ]
  },
  {
   "cell_type": "markdown",
   "id": "844c753b",
   "metadata": {},
   "source": [
    "### Task 3 – Enable SSH access inside each container\n",
    "Inside both containers, use `apt` to install `openssh-server` and `python3`, start the `sshd` service, and edit `/etc/ssh/sshd_config` to allow root key login."
   ]
  },
  {
   "cell_type": "code",
   "execution_count": null,
   "id": "25d3d1fc",
   "metadata": {},
   "outputs": [],
   "source": [
    "# your commands here (or do it in a terminal)\n",
    "# done in terminal!"
   ]
  },
  {
   "cell_type": "code",
   "execution_count": 25,
   "id": "59f4b2db",
   "metadata": {},
   "outputs": [
    {
     "name": "stdout",
     "output_type": "stream",
     "text": [
      "=== debian1 ===\n",
      "46 sshd: /usr/sbin/sshd [listener] 0 of 10-100 startups\n",
      "sshd_config OK (root + key auth enabled)\n",
      "\n",
      "=== debian2 ===\n",
      "46 sshd: /usr/sbin/sshd [listener] 0 of 10-100 startups\n",
      "sshd_config OK (root + key auth enabled)\n",
      "\n"
     ]
    }
   ],
   "source": [
    "# verification – sshd running and sshd_config permits key-based root login\n",
    "for c in debian1 debian2; do\n",
    "  echo \"=== $c ===\"\n",
    "  sudo docker exec \"$c\" pgrep -a sshd || echo \"sshd NOT running\"\n",
    "  ok_lines=$(sudo docker exec \"$c\" \\\n",
    "    sh -c \"grep -E '^(PermitRootLogin|PubkeyAuthentication)[[:space:]]+yes' /etc/ssh/sshd_config | wc -l\")\n",
    "  if [ \"$ok_lines\" -eq 2 ]; then\n",
    "    echo \"sshd_config OK (root + key auth enabled)\"\n",
    "  else\n",
    "    echo \"sshd_config missing or incorrectly set directives\"\n",
    "    sudo docker exec \"$c\" grep -E '^(PermitRootLogin|PubkeyAuthentication)' /etc/ssh/sshd_config\n",
    "  fi\n",
    "  echo\n",
    "done"
   ]
  },
  {
   "cell_type": "markdown",
   "id": "58fbc4eb",
   "metadata": {},
   "source": [
    "### Task 4 – Create a 600 MB placeholder file on the host\n",
    "Create **`~/bigfile.bin`** filled with zeroes."
   ]
  },
  {
   "cell_type": "code",
   "execution_count": 26,
   "id": "6b3a4cda",
   "metadata": {},
   "outputs": [
    {
     "name": "stdout",
     "output_type": "stream",
     "text": [
      "600+0 records in\n",
      "600+0 records out\n",
      "629145600 bytes (629 MB, 600 MiB) copied, 0.549081 s, 1.1 GB/s\n",
      "-rw-rw-rw- 1 root root 600M May  9 14:11 /tmp/bigfile.bin\n"
     ]
    }
   ],
   "source": [
    "# You do not have to do anything for task 4 except run this command\n",
    "# Create a 600 MB test file in your temp directory\n",
    "dd if=/dev/zero of=/tmp/bigfile.bin bs=1M count=600 status=progress\n",
    "# change permissions\n",
    "chmod 666 /tmp/bigfile.bin\n",
    "# verification – should report 600 MB\n",
    "ls -lh /tmp/bigfile.bin"
   ]
  },
  {
   "cell_type": "markdown",
   "id": "86274243",
   "metadata": {},
   "source": [
    "### Task 5 – Authorise your host SSH key inside each container\n",
    "Copy the contents of `/root/.ssh/id_ed25519.pub` from the host into `/root/.ssh/authorized_keys` in both containers so you can `ssh root@<container‑ip>` without a password."
   ]
  },
  {
   "cell_type": "code",
   "execution_count": 27,
   "id": "09d4f7f6-ea41-4402-9b43-331427477bbc",
   "metadata": {},
   "outputs": [],
   "source": [
    "# Generate a new ed25519 ssh key for root user on the host.\n",
    "# ed25519 is considered the best overall encryption type for ssh keys\n",
    "ssh-keygen -t ed25519 -f /root/.ssh/id_ed25519 -N \"\" -q"
   ]
  },
  {
   "cell_type": "code",
   "execution_count": 28,
   "id": "5eccad48",
   "metadata": {},
   "outputs": [
    {
     "name": "stdout",
     "output_type": "stream",
     "text": [
      "ssh-ed25519 AAAAC3NzaC1lZDI1NTE5AAAAIP6ULsjoHLTx0c9cEaozm33UM3exGW2wKKIrhrAVOT8G root@CS447-alyssaaragon\n"
     ]
    }
   ],
   "source": [
    "# your commands here (or do it in a terminal)\n",
    "cat /root/.ssh/id_ed25519.pub"
   ]
  },
  {
   "cell_type": "code",
   "execution_count": 1,
   "id": "30581e80",
   "metadata": {},
   "outputs": [
    {
     "name": "stdout",
     "output_type": "stream",
     "text": [
      "debian1: 1\n",
      "debian2: 1\n"
     ]
    }
   ],
   "source": [
    "# verification - host pub key should appear once in each container's authorized_keys file\n",
    "# Correct output shows 1 for both containers. Incorrect shows 0.\n",
    "pubkey=$(awk '{print $2}' /root/.ssh/id_ed25519.pub)\n",
    "for c in debian1 debian2; do\n",
    "  echo -n \"$c: \"\n",
    "  sudo docker exec \"$c\" grep -c -- \"$pubkey\" /root/.ssh/authorized_keys\n",
    "done"
   ]
  },
  {
   "cell_type": "markdown",
   "id": "de6d86b5",
   "metadata": {},
   "source": [
    "### Task 6 – Use Ansible to copy the big file into both containers\n",
    "1. Find the IPs of the docker containers.\n",
    "2. Verify key auth ssh access.\n",
    "3. `apt install ansible` in a terminal.\n",
    "4. Create an inventory file `/srv/ansible/hosts` with a group `[containers]` containing the two container IPs.\n",
    "5. Write a one‑task playbook `/srv/ansible/copy_bigfile.yml` that copies `/tmp/bigfile.bin` to `/root/host/bigfile.bin` on each container.\n",
    "\n",
    "After running the playbook the file should be present on **both** LVM‑backed filesystems."
   ]
  },
  {
   "cell_type": "code",
   "execution_count": 2,
   "id": "bfdd8977-26f2-4fab-98a2-8a01835fec44",
   "metadata": {},
   "outputs": [],
   "source": [
    "# Find the IP addresses of both docker containers in a terminal\n",
    "IP1=\"172.18.0.2\" # debian1's IP goes in quotes here\n",
    "IP2=\"172.18.0.3\" # debian2's IP goes in quotes here"
   ]
  },
  {
   "cell_type": "code",
   "execution_count": 3,
   "id": "a8bbd437-f914-41d3-9c51-3fd0758fe249",
   "metadata": {},
   "outputs": [
    {
     "name": "stdout",
     "output_type": "stream",
     "text": [
      "Warning: Permanently added '172.18.0.2' (ED25519) to the list of known hosts.\n",
      "Successfully SSHed to container 1.\n",
      "Warning: Permanently added '172.18.0.3' (ED25519) to the list of known hosts.\n",
      "Successfully SSHed to container 2.\n"
     ]
    }
   ],
   "source": [
    "# verify ssh access using the IPs obtained above\n",
    "(ssh -o StrictHostKeyChecking=accept-new root@$IP1 'echo Successfully SSHed to container 1.' && exit) || echo Failed to ssh to container 1.\n",
    "(ssh -o StrictHostKeyChecking=accept-new root@$IP2 'echo Successfully SSHed to container 2.' && exit) || echo Failed to ssh to container 2."
   ]
  },
  {
   "cell_type": "code",
   "execution_count": 4,
   "id": "953988a0",
   "metadata": {},
   "outputs": [
    {
     "name": "stdout",
     "output_type": "stream",
     "text": [
      "\n",
      "PLAY [Copy big file to containers] *********************************************\n",
      "\n",
      "TASK [Gathering Facts] *********************************************************\n",
      "ok: [debian1]\n",
      "ok: [debian2]\n",
      "\n",
      "TASK [Copy bigfile to container] ***********************************************\n",
      "changed: [debian1]\n",
      "changed: [debian2]\n",
      "\n",
      "PLAY RECAP *********************************************************************\n",
      "debian1                    : ok=2    changed=1    unreachable=0    failed=0    skipped=0    rescued=0    ignored=0   \n",
      "debian2                    : ok=2    changed=1    unreachable=0    failed=0    skipped=0    rescued=0    ignored=0   \n",
      "\n"
     ]
    }
   ],
   "source": [
    "# Write your commands here.\n",
    "# You can do most of your commands in a terminal, however:\n",
    "# you MUST run the ansible-playbook command in this cell to get credit for this part.\n",
    "sudo ansible-playbook -i /srv/ansible/hosts /srv/ansible/copy_bigfile.yml\n"
   ]
  },
  {
   "cell_type": "code",
   "execution_count": 5,
   "id": "75e2a451",
   "metadata": {},
   "outputs": [
    {
     "name": "stdout",
     "output_type": "stream",
     "text": [
      "[WARNING]: Platform linux on host debian1 is using the discovered Python\n",
      "interpreter at /usr/bin/python3.11, but future installation of another Python\n",
      "interpreter could change the meaning of that path. See\n",
      "https://docs.ansible.com/ansible-\n",
      "core/2.18/reference_appendices/interpreter_discovery.html for more information.\n",
      "[WARNING]: Platform linux on host debian2 is using the discovered Python\n",
      "interpreter at /usr/bin/python3.11, but future installation of another Python\n",
      "interpreter could change the meaning of that path. See\n",
      "https://docs.ansible.com/ansible-\n",
      "core/2.18/reference_appendices/interpreter_discovery.html for more information.\n",
      "        \"exists\": true,\n",
      "        \"exists\": true,\n",
      "\n",
      "\n",
      "/srv/ansible/hosts\n",
      "[containers]\n",
      "debian1 ansible_host=172.18.0.2\n",
      "debian2 ansible_host=172.18.0.3\n",
      "\n",
      "\n",
      "/srv/ansible/copy_bigfile.yml\n",
      "---\n",
      "- name: Copy big file to containers\n",
      "  hosts: containers\n",
      "  tasks:\n",
      "    - name: Copy bigfile to container\n",
      "      copy:\n",
      "        src: /tmp/bigfile.bin\n",
      "        dest: /root/host/bigfile.bin\n",
      "        mode: '0644'\n"
     ]
    }
   ],
   "source": [
    "# verification – stat module should report 'exists: True' twice\n",
    "# also verification of contents of the ansible hosts and task yaml\n",
    "ansible containers -i /srv/ansible/hosts -m stat -a 'path=/root/host/bigfile.bin' | grep -E '(ok|exists)'\n",
    "echo\n",
    "echo\n",
    "echo /srv/ansible/hosts\n",
    "cat /srv/ansible/hosts\n",
    "echo\n",
    "echo\n",
    "echo /srv/ansible/copy_bigfile.yml\n",
    "cat /srv/ansible/copy_bigfile.yml"
   ]
  },
  {
   "cell_type": "markdown",
   "id": "8ccbff47-3bc0-4ee0-93f0-8c39561729a3",
   "metadata": {},
   "source": [
    "### Task 7 - Graduate (647) students only - Data recovery with LVM snapshots\n",
    "\n",
    "\n",
    "\n",
    "With the 600 MB file still on both LVMs, you will:\n",
    "\n",
    "1. Create a physical volume with your last remaining virtual disk.\n",
    "2. Use `vgextend` to add the remaining virtual disk to `vgstripe1`.\n",
    "3. Create a logical volume `lvbackup` that occupies 100% of `vgstripe1`'s remaining free space.\n",
    "4. Create a read-only snapshots of `/dev/vgstripe1/lvm1` naming it `lvm1_snap` (allocate 600 MB).  \n",
    "5. Print the SHA-256 checksum of the original source file `/tmp/bigfile.bin`.  \n",
    "6. Simulate disaster by corrupting the copy on LV1 (`/mnt/lvm1/bigfile.bin`).\n",
    "7. Print the SHA-256 checksum of the corrupted file `/mnt/lvm1/bigfile.bin`. \n",
    "8. Mount the corresponding snapshot as read-only, restore the good file, then unmount.\n",
    "9. Confirm the file was restored successfully by printing its SHA-256 checksum."
   ]
  },
  {
   "cell_type": "markdown",
   "id": "f1f5aec0-99fe-42df-bc6e-b5f211a110b8",
   "metadata": {},
   "source": [
    "In the cell below, write the commands to:\n",
    "1. Create a pv from your last remaining 1GB virtual disk.\n",
    "2. Extend `vgstripe1` with that virtual disk\n",
    "3. Create a read-only lvm snapshot named `lvm1_snap` of `/dev/vgstripe1/lvm1` that occupies all the remaining space on `vgstripe1`"
   ]
  },
  {
   "cell_type": "code",
   "execution_count": null,
   "id": "84ff0237-c5e0-42d3-a89f-fa39023713b2",
   "metadata": {},
   "outputs": [],
   "source": [
    "# your commands here (or do it in a terminal)\n"
   ]
  },
  {
   "cell_type": "code",
   "execution_count": null,
   "id": "938a8b9e-28fe-455f-9d06-f29837843558",
   "metadata": {},
   "outputs": [],
   "source": [
    "# Verification – /dev/sdf must be a PV in BOTH VGs\n",
    "sudo pvs | grep -q '/dev/sdf' && echo \"Success: /dev/sdf is a PV\" || echo \"Error: /dev/sdf not a PV\"\n",
    "sudo vgdisplay vgstripe1 -v | grep -q '/dev/sdf' && echo \"Success: vgstripe1 uses /dev/sdf\" || echo \"Error: vgstripe1 missing PV\"\n",
    "sudo lvs | grep -E 'lvm1_snap' && echo \"Success: snapshot present\" || echo \"Error: snapshot missing\""
   ]
  },
  {
   "cell_type": "code",
   "execution_count": null,
   "id": "6bc6bc99-2c6d-46e0-a89d-e9adb741ce6b",
   "metadata": {},
   "outputs": [],
   "source": [
    "# Capture original checksums (this might take a few seconds)\n",
    "echo \"Original hashes\"\n",
    "sha256sum /tmp/bigfile.bin\n",
    "sha256sum /mnt/lvm1/bigfile.bin"
   ]
  },
  {
   "cell_type": "code",
   "execution_count": null,
   "id": "ed571488-daf7-4364-b087-58953aa4af16",
   "metadata": {},
   "outputs": [],
   "source": [
    "# Corrupt the file on lvm1 (simulate data loss) and calculate hashes again\n",
    "sudo truncate -s 0 /mnt/lvm1/bigfile.bin\n",
    "echo \"Hashes after corrupting one file\"\n",
    "sha256sum /tmp/bigfile.bin\n",
    "sha256sum /mnt/lvm1/bigfile.bin"
   ]
  },
  {
   "cell_type": "markdown",
   "id": "104f8ede-fb36-4008-bad0-f4153e46789f",
   "metadata": {},
   "source": [
    "In the cell below, mount `/dev/vgstripe1/lvm1_snap` to `/mnt/lvm1_snap`, then copy `/mnt/lvm1_snap/bigfile.bin` to `/mnt/lvm1/bigfile.bin`."
   ]
  },
  {
   "cell_type": "code",
   "execution_count": null,
   "id": "3ce1dc8c-fb89-4c0a-8146-f6c5359908c7",
   "metadata": {},
   "outputs": [],
   "source": [
    "# Your commands here.\n",
    "# You must run the mount and copy commands in this to get gredit for this part.\n"
   ]
  },
  {
   "cell_type": "code",
   "execution_count": null,
   "id": "1df28e76-95ba-45ab-b8eb-043a005918d5",
   "metadata": {},
   "outputs": [],
   "source": [
    "# Verify that hashes match again\n",
    "echo \"Hashes after restoring from snapshot\"\n",
    "sha256sum /tmp/bigfile.bin\n",
    "sha256sum /mnt/lvm1/bigfile.bin"
   ]
  }
 ],
 "metadata": {
  "kernelspec": {
   "display_name": "Bash",
   "language": "bash",
   "name": "bash"
  },
  "language_info": {
   "codemirror_mode": "shell",
   "file_extension": ".sh",
   "mimetype": "text/x-sh",
   "name": "bash"
  }
 },
 "nbformat": 4,
 "nbformat_minor": 5
}
